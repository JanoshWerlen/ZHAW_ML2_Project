{
 "cells": [
  {
   "cell_type": "markdown",
   "metadata": {},
   "source": [
    "# Evaluate Bot responses on running APP\n",
    "\n",
    "To evaluate the responses of the running bot, several questions with optimal or satisfying results have been selected. These questions have been used as inputs. The results of the bot have been compared to the expected results.\n",
    "\n",
    "The Questions and used filters are:  \n",
    "\n",
    "Question-------------------------------------------Filter-------------------------------------------Expected Result  \n",
    "Wann erhalte ich Nachtzulage?-------------------Nicht-Ärztliches Personal---------------------Art. 176 / Kapitel 20.5 Arbeitszeitreglement  \n",
    "Wie melde ich einen Mutterschatftsurlaub?------Nicht-Ärztliches Personal---------------------Art. 121 / Kapitel 16.4 Arbeitszeitreglement  \n",
    "Was sind die Ruhezeiten bei Nachtdiensten?-----Assistenzärzte---------------------------------Art. 4.2.3 GPS_AA  \n",
    "Wie viele Zulagen gibt es bei Sonntagsarbeit?---Nicht-Ärztliches Personal---------------------Art. 176 / Kapitel 20.5 Arbeitszeitreglement     \n",
    "Muss ich zwingend Mittagspause machen?------Nicht-Ärztliches Personal---------------------Art. 170 / Kapitel 14.2 Arbeitszeitreglement  \n",
    "Wie viele Dienste am Stück darf man machen?---Kaderärzte------------------------------------Kapitel 3.5 GSP_OA\n",
    "\n",
    "Most questions are filtered to nicht-ärztliches Personal, as they are the largest group within the employees.\n"
   ]
  },
  {
   "cell_type": "markdown",
   "metadata": {},
   "source": [
    "# Test 1 \n",
    "## Wann erhalte ich Nachtzulage? mit Filter Nicht-Ärztliches Personal\n",
    "\n",
    "\n",
    "### Resultat: \n",
    "![image.png](img/Response_1.png)"
   ]
  },
  {
   "cell_type": "markdown",
   "metadata": {},
   "source": [
    "# Test 2 \n",
    "## Wie melde ich einen Mutterschatftsurlaub? mit Filter Nicht-Ärztliches Personal\n",
    "\n",
    "\n",
    "### Resultat: \n",
    "![image.png](img/Response_2.png)"
   ]
  },
  {
   "cell_type": "markdown",
   "metadata": {},
   "source": [
    "# Test 3 \n",
    "## Was sind die Ruhezeiten bei Nachtdiensten? mit Filter Assistenzärzte\n",
    "\n",
    "\n",
    "### Resultat: \n",
    "![image.png](img/Response_3.png)"
   ]
  },
  {
   "cell_type": "markdown",
   "metadata": {},
   "source": [
    "# Test 4 \n",
    "## Wie viele Zulagen gibt es bei Sonntagsarbeit? mit Filter Nicht-Ärztliches Personal\n",
    "\n",
    "\n",
    "### Resultat: \n",
    "![image.png](img/Response_4.png)"
   ]
  },
  {
   "cell_type": "markdown",
   "metadata": {},
   "source": [
    "# Test 5 \n",
    "## Muss ich zwingend Mittagspause machen? mit Filter Nicht-Ärztliches Personal\n",
    "\n",
    "\n",
    "### Resultat: \n",
    "![image.png](img/Response_5.png)"
   ]
  },
  {
   "cell_type": "markdown",
   "metadata": {},
   "source": [
    "# Test 6 \n",
    "## Wie viele Dienst am Stück darf man machen? mit Filter Kaderärzte\n",
    "\n",
    "\n",
    "### Resultat: \n",
    "![image.png](img/Response_6.png)"
   ]
  },
  {
   "cell_type": "markdown",
   "metadata": {},
   "source": [
    "The responses provided by the RAG are correct and relevant. Given the inputs, the bot provides a response citing the relevant articles and linking them for further consultation.   \n",
    "The context provided even exceeded expectations.\n",
    "\n",
    "The response format seems not to be the same all the time. This could be improved by providing more explicit instructions to the OpenAI API call.\n",
    "\n",
    "Further technical evaluations can be found here: [Evaluations](2_Evaluate_RAG_Embedding.ipynb)"
   ]
  }
 ],
 "metadata": {
  "language_info": {
   "name": "python"
  }
 },
 "nbformat": 4,
 "nbformat_minor": 2
}
